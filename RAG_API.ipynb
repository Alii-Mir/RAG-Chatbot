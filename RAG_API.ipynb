{
  "cells": [
    {
      "cell_type": "markdown",
      "id": "NYL2c7RRbx5F",
      "metadata": {
        "id": "NYL2c7RRbx5F"
      },
      "source": [
        "# Mount Google Drive"
      ]
    },
    {
      "cell_type": "code",
      "execution_count": 1,
      "id": "68279a23",
      "metadata": {
        "colab": {
          "base_uri": "https://localhost:8080/"
        },
        "id": "68279a23",
        "outputId": "7696411f-487a-4632-fd07-3401e8614b0b"
      },
      "outputs": [
        {
          "name": "stdout",
          "output_type": "stream",
          "text": [
            "Mounted at /content/drive\n"
          ]
        }
      ],
      "source": [
        "from google.colab import drive\n",
        "drive.mount('/content/drive')"
      ]
    },
    {
      "cell_type": "markdown",
      "id": "Orf7w1_LpxYP",
      "metadata": {
        "id": "Orf7w1_LpxYP"
      },
      "source": [
        "# ⭐️ PDF-Based RAG Q&A ChatBot Using API"
      ]
    },
    {
      "cell_type": "code",
      "execution_count": 5,
      "id": "994Aj8PI9N_w",
      "metadata": {
        "colab": {
          "base_uri": "https://localhost:8080/",
          "height": 628
        },
        "id": "994Aj8PI9N_w",
        "outputId": "7837e168-fdae-4a6a-8360-e7639365f0de"
      },
      "outputs": [
        {
          "name": "stdout",
          "output_type": "stream",
          "text": [
            "🔋 Using Device: cuda\n",
            "Colab notebook detected. To show errors in colab notebook, set debug=True in launch()\n",
            "* Running on public URL: https://95213915f9a5d778cc.gradio.live\n",
            "\n",
            "This share link expires in 1 week. For free permanent hosting and GPU upgrades, run `gradio deploy` from the terminal in the working directory to deploy to Hugging Face Spaces (https://huggingface.co/spaces)\n"
          ]
        },
        {
          "data": {
            "text/html": [
              "<div><iframe src=\"https://95213915f9a5d778cc.gradio.live\" width=\"100%\" height=\"500\" allow=\"autoplay; camera; microphone; clipboard-read; clipboard-write;\" frameborder=\"0\" allowfullscreen></iframe></div>"
            ],
            "text/plain": [
              "<IPython.core.display.HTML object>"
            ]
          },
          "metadata": {},
          "output_type": "display_data"
        },
        {
          "data": {
            "text/plain": []
          },
          "execution_count": 5,
          "metadata": {},
          "output_type": "execute_result"
        }
      ],
      "source": [
        "# ╔════════════════════════════════════════════════╗\n",
        "# ║ PDF Q&A RAG System with Groq Streaming LLM API ║\n",
        "# ╚════════════════════════════════════════════════╝\n",
        "\n",
        "# ── STEP 0: Install Required Libraries ──────────────────────────────────────────\n",
        "!pip -q install faiss-cpu langchain-core langchain-community \\\n",
        "               sentence-transformers groq gradio pydantic python-dotenv pypdf PyPDF2 torch\n",
        "\n",
        "# ── STEP 1: Imports ─────────────────────────────────────────────────────────────\n",
        "import os, tempfile, traceback, torch\n",
        "from pathlib import Path\n",
        "from typing import List\n",
        "from sentence_transformers import SentenceTransformer\n",
        "from langchain_community.document_loaders import PyPDFLoader\n",
        "from langchain_community.vectorstores import FAISS\n",
        "from langchain_community.embeddings import HuggingFaceEmbeddings\n",
        "from langchain.text_splitter import RecursiveCharacterTextSplitter\n",
        "from groq import Groq\n",
        "import gradio as gr\n",
        "from PyPDF2 import PdfReader\n",
        "\n",
        "# ── STEP 2: Configuration ───────────────────────────────────────────────────────\n",
        "GROQ_MODEL   = \"meta-llama/llama-4-scout-17b-16e-instruct\"  ### meta-llama/llama-4-scout-17b-16e-instruct, llama-3.3-70b-versatile gemma2-9b-it or llama3-70b-8192\n",
        "EMBED_MODEL_NAME  = \"intfloat/e5-large-v2\"   ######\n",
        "DEVICE = \"cuda\" if torch.cuda.is_available() else \"cpu\"\n",
        "print(f\"🔋 Using Device: {DEVICE}\")\n",
        "\n",
        "EMBEDDER = HuggingFaceEmbeddings(\n",
        "    model_name=EMBED_MODEL_NAME,\n",
        "    model_kwargs={\"device\": DEVICE}\n",
        ")\n",
        "\n",
        "# ── STEP 3: Prompt Template for LLM ─────────────────────────────────────────────\n",
        "PROMPT_TEMPLATE = \"\"\"\n",
        "You are a highly knowledgeable assistant with full access to the contents of the provided PDF document(s).\n",
        "Your task is to answer the user's questions **strictly based on the content of the PDF**.\n",
        "If the answer cannot be found in the PDF, respond with: \"I do not know.\"\n",
        "\n",
        "Context:\n",
        "{context}\n",
        "\n",
        "Question:\n",
        "{question}\n",
        "\n",
        "Answer:\n",
        "\"\"\"\n",
        "\n",
        "# ── STEP 4: Build Vector Index from PDF Manual ──────────────────────────────────\n",
        "def build_pdf_index(pdf_files: List):\n",
        "    \"\"\"\n",
        "    Builds a searchable vector index from uploaded PDFs.\n",
        "    Handles different types of file objects.\n",
        "    \"\"\"\n",
        "    try:\n",
        "        if not pdf_files:\n",
        "            return None, \"❌ No PDF files uploaded.\"\n",
        "\n",
        "        docs = []\n",
        "        log_messages = []\n",
        "\n",
        "        for pdf in pdf_files:\n",
        "            log_message = \"\"\n",
        "            try:\n",
        "                # Determine if 'pdf' is a file-like object or a file path string.\n",
        "                if hasattr(pdf, \"read\"):\n",
        "                    # Read bytes directly (works for file-like streams)\n",
        "                    file_bytes = pdf.read()\n",
        "                    file_name = pdf.name if hasattr(pdf, \"name\") else \"uploaded.pdf\"\n",
        "                else:\n",
        "                    # If pdf is a path string, open it\n",
        "                    file_name = pdf\n",
        "                    with open(pdf, \"rb\") as f:\n",
        "                        file_bytes = f.read()\n",
        "\n",
        "                log_message += f\"📄 Loading: {file_name}\\n\"\n",
        "\n",
        "                # Save the file bytes to a temporary file so PyPDFLoader can load it\n",
        "                with tempfile.NamedTemporaryFile(delete=False, suffix=\".pdf\") as tmp_pdf:\n",
        "                    tmp_pdf.write(file_bytes)\n",
        "                    tmp_pdf.flush()\n",
        "                    temp_path = tmp_pdf.name\n",
        "                    log_message += f\"\\n✅ Saved to: {temp_path}\\n\"\n",
        "\n",
        "                    # Optional: Use PdfReader for debugging (e.g., getting a preview)\n",
        "                    try:\n",
        "                        reader = PdfReader(temp_path)\n",
        "                        num_pages = len(reader.pages)\n",
        "                        log_message += f\"\\n📋 Pages Found: {num_pages}\\n\"\n",
        "                        if num_pages > 0:\n",
        "                            preview = reader.pages[0].extract_text()\n",
        "                            log_message += f\"\\n📝 Page 1 Preview (A few characters):\\n{preview[:70]} ...\\n\\n\"\n",
        "                    except Exception as e:\n",
        "                        log_message += f\"❌ PyPDF2 error: {e}\\n\"\n",
        "\n",
        "                    # Load the PDF using LangChain's PyPDFLoader\n",
        "                    loader = PyPDFLoader(temp_path)\n",
        "                    loaded_docs = loader.load()\n",
        "\n",
        "                    if not loaded_docs:\n",
        "                        log_message += f\"🛑 No documents could be loaded from: {temp_path}\\n\"\n",
        "                    else:\n",
        "                        docs.extend(loaded_docs)\n",
        "                        log_message += f\"✅ Successfully loaded {len(loaded_docs)} pages.\\n\"\n",
        "\n",
        "            except Exception as e:\n",
        "                log_message += f\"❌ Error loading PDF: {traceback.format_exc()}\\n\"\n",
        "\n",
        "            log_messages.append(log_message)\n",
        "\n",
        "        if not docs:\n",
        "            return None, \"\\n\".join(log_messages) + \"\\n❌ No documents were loaded. Check if the PDF is encrypted or corrupted.\"\n",
        "\n",
        "        # Split documents into chunks\n",
        "        splitter = RecursiveCharacterTextSplitter(chunk_size=800, chunk_overlap=100)  ############\n",
        "        chunks = splitter.split_documents(docs)\n",
        "        log_messages.append(f\"✅ Created {len(chunks)} chunks for indexing.\\n\")\n",
        "\n",
        "        # Vectorize chunks\n",
        "        vdb = FAISS.from_documents(chunks, EMBEDDER)\n",
        "\n",
        "        log_messages.append(f\"✅ Knowledge Base built with {len(chunks)} chunks.\")\n",
        "        full_log = \"\\n\".join(log_messages)\n",
        "\n",
        "        return vdb, full_log\n",
        "\n",
        "    except Exception as e:\n",
        "        err_msg = traceback.format_exc()\n",
        "        return None, f\"❌ Error during indexing:\\n```\\n{err_msg}\\n```\"\n",
        "\n",
        "# ── STEP 5: Gradio Interface ───────────────────────────────────────────────────\n",
        "with gr.Blocks(title=\"PDF Q&A with Groq LLM\") as demo:\n",
        "    gr.Markdown(\"## 📄 PDF Q&A Assistant – Ask Anything from Your PDF Documents\")\n",
        "\n",
        "    # Step 0: Enter API Key\n",
        "    api_key_input = gr.Textbox(label=\"🔑 Enter your Groq API Key\", type=\"password\")\n",
        "\n",
        "    # Step 1: Upload and Index PDF\n",
        "    with gr.Row():\n",
        "        pdf_files = gr.Files(label=\"📄 Upload Your PDF Files\")\n",
        "        build_button = gr.Button(\"🔧 Build Knowledge Base\")\n",
        "\n",
        "    # Scrollable logs\n",
        "    status = gr.Textbox(label=\"📜 Logs and Errors\", interactive=False, lines=15, max_lines=30)\n",
        "\n",
        "    # Step 2: Ask a Question\n",
        "    with gr.Row():\n",
        "        question_input = gr.Textbox(label=\"🔍 Ask a Question\")\n",
        "        submit_button = gr.Button(\"🚀 Get Answer\")\n",
        "\n",
        "    answer_output = gr.Textbox(label=\"📝 Answer\", interactive=False)\n",
        "\n",
        "    # Session state for the vector store\n",
        "    st_vdb = gr.State()\n",
        "\n",
        "    # Button Event Handlers\n",
        "    def build_and_store(pdfs):\n",
        "        vdb, log = build_pdf_index(pdfs)\n",
        "        return log, vdb\n",
        "\n",
        "# --------------------------------------------------------\n",
        "    def answer_question(user_q: str, vdb, groq_key: str):\n",
        "        \"\"\"\n",
        "        Retrieve context from the vector store and ask Groq LLM for an answer.\n",
        "        \"\"\"\n",
        "        try:\n",
        "            if vdb is None:\n",
        "                return \"❌ Please build the knowledge base first.\"\n",
        "\n",
        "            # 1. Top‑k similarity search\n",
        "            retriever   = vdb.as_retriever(search_type=\"similarity\", k=3)   ############\n",
        "            ctx_chunks  = retriever.invoke(user_q)\n",
        "            context_txt = \"\\n\".join(c.page_content for c in ctx_chunks)\n",
        "\n",
        "            # 2. Format the prompt\n",
        "            prompt = PROMPT_TEMPLATE.format(context=context_txt, question=user_q)\n",
        "\n",
        "            # 3. Call Groq\n",
        "            client  = Groq(api_key=groq_key)\n",
        "            stream  = client.chat.completions.create(\n",
        "                model=GROQ_MODEL,\n",
        "                messages=[{\"role\": \"user\", \"content\": prompt}],\n",
        "                temperature=0.1,\n",
        "                max_completion_tokens=1024,  ############\n",
        "                stream=True\n",
        "            )\n",
        "\n",
        "            # 4. Concatenate streamed tokens\n",
        "            answer = \"\".join(tok.choices[0].delta.content or \"\" for tok in stream)\n",
        "            return answer or \"I do not know.\"\n",
        "\n",
        "        except Exception as e:\n",
        "            return f\"❌ Error:\\n```\\n{traceback.format_exc()}\\n```\"\n",
        "\n",
        "# --------------------------------------------------------\n",
        "    build_button.click(fn=build_and_store, inputs=[pdf_files], outputs=[status, st_vdb])\n",
        "    submit_button.click(fn=answer_question, inputs=[question_input, st_vdb, api_key_input], outputs=[answer_output])\n",
        "\n",
        "# ── STEP 6: Launch Gradio App ──────────────────────────────────────────────────\n",
        "demo.launch(share=True)\n"
      ]
    }
  ],
  "metadata": {
    "accelerator": "GPU",
    "colab": {
      "gpuType": "T4",
      "provenance": [],
      "toc_visible": true
    },
    "kernelspec": {
      "display_name": "Python 3",
      "name": "python3"
    },
    "language_info": {
      "codemirror_mode": {
        "name": "ipython",
        "version": 3
      },
      "file_extension": ".py",
      "mimetype": "text/x-python",
      "name": "python",
      "nbconvert_exporter": "python",
      "pygments_lexer": "ipython3",
      "version": "3.9.19"
    }
  },
  "nbformat": 4,
  "nbformat_minor": 5
}
